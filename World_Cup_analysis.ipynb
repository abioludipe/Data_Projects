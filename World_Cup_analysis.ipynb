{
 "cells": [
  {
   "cell_type": "markdown",
   "metadata": {},
   "source": [
    "# World Cup Results analysis"
   ]
  },
  {
   "cell_type": "code",
   "execution_count": 1,
   "metadata": {},
   "outputs": [],
   "source": [
    "import numpy as np\n",
    "import pandas as pd\n",
    "from csv import reader\n",
    "import datetime as dt\n",
    "import matplotlib.pyplot as plt"
   ]
  },
  {
   "cell_type": "markdown",
   "metadata": {},
   "source": [
    "1. How many matches were played in each world cup year from 1930?\n",
    "2. Total goals scored for each tournament year\n",
    "3. All Teams who have reached finals and how many times?\n",
    "4. All Teams who have reached Semi-finals and how many times?\n",
    "5. How many goals and average goals scored in all semi-finals?\n",
    "6. How many goals and average goals scored in all Quarter-finals?\n",
    "7. How many goals and average goals scored in all Finals?\n",
    "8. How many matches were played outside Quarter-finals and above?\n",
    "9. Create a new Column for the outcome of every match(outcome = D for Draw, A for Away Team wins, H for Home Team wins).\n",
    "10. Create a new Column for the Winner of every match.\n",
    "11. Most frequent match time in the world cup history"
   ]
  },
  {
   "cell_type": "code",
   "execution_count": 2,
   "metadata": {},
   "outputs": [
    {
     "data": {
      "text/html": [
       "<div>\n",
       "<style scoped>\n",
       "    .dataframe tbody tr th:only-of-type {\n",
       "        vertical-align: middle;\n",
       "    }\n",
       "\n",
       "    .dataframe tbody tr th {\n",
       "        vertical-align: top;\n",
       "    }\n",
       "\n",
       "    .dataframe thead th {\n",
       "        text-align: right;\n",
       "    }\n",
       "</style>\n",
       "<table border=\"1\" class=\"dataframe\">\n",
       "  <thead>\n",
       "    <tr style=\"text-align: right;\">\n",
       "      <th></th>\n",
       "      <th>Year</th>\n",
       "      <th>Date</th>\n",
       "      <th>Time</th>\n",
       "      <th>Round</th>\n",
       "      <th>Stadium</th>\n",
       "      <th>City</th>\n",
       "      <th>HomeTeam</th>\n",
       "      <th>HomeGoals</th>\n",
       "      <th>AwayGoals</th>\n",
       "      <th>AwayTeam</th>\n",
       "      <th>Observation</th>\n",
       "    </tr>\n",
       "  </thead>\n",
       "  <tbody>\n",
       "    <tr>\n",
       "      <th>0</th>\n",
       "      <td>1930</td>\n",
       "      <td>13-Jul-30</td>\n",
       "      <td>15:00</td>\n",
       "      <td>Group 1</td>\n",
       "      <td>Pocitos</td>\n",
       "      <td>Montevideo</td>\n",
       "      <td>France</td>\n",
       "      <td>4</td>\n",
       "      <td>1</td>\n",
       "      <td>Mexico</td>\n",
       "      <td></td>\n",
       "    </tr>\n",
       "    <tr>\n",
       "      <th>1</th>\n",
       "      <td>1930</td>\n",
       "      <td>13-Jul-30</td>\n",
       "      <td>15:00</td>\n",
       "      <td>Group 4</td>\n",
       "      <td>Parque Central</td>\n",
       "      <td>Montevideo</td>\n",
       "      <td>USA</td>\n",
       "      <td>3</td>\n",
       "      <td>0</td>\n",
       "      <td>Belgium</td>\n",
       "      <td></td>\n",
       "    </tr>\n",
       "    <tr>\n",
       "      <th>2</th>\n",
       "      <td>1930</td>\n",
       "      <td>14-Jul-30</td>\n",
       "      <td>12:45</td>\n",
       "      <td>Group 2</td>\n",
       "      <td>Parque Central</td>\n",
       "      <td>Montevideo</td>\n",
       "      <td>Yugoslavia</td>\n",
       "      <td>2</td>\n",
       "      <td>1</td>\n",
       "      <td>Brazil</td>\n",
       "      <td></td>\n",
       "    </tr>\n",
       "    <tr>\n",
       "      <th>3</th>\n",
       "      <td>1930</td>\n",
       "      <td>14-Jul-30</td>\n",
       "      <td>14:50</td>\n",
       "      <td>Group 3</td>\n",
       "      <td>Pocitos</td>\n",
       "      <td>Montevideo</td>\n",
       "      <td>Romania</td>\n",
       "      <td>3</td>\n",
       "      <td>1</td>\n",
       "      <td>Peru</td>\n",
       "      <td></td>\n",
       "    </tr>\n",
       "    <tr>\n",
       "      <th>4</th>\n",
       "      <td>1930</td>\n",
       "      <td>15-Jul-30</td>\n",
       "      <td>16:00</td>\n",
       "      <td>Group 1</td>\n",
       "      <td>Parque Central</td>\n",
       "      <td>Montevideo</td>\n",
       "      <td>Argentina</td>\n",
       "      <td>1</td>\n",
       "      <td>0</td>\n",
       "      <td>France</td>\n",
       "      <td></td>\n",
       "    </tr>\n",
       "  </tbody>\n",
       "</table>\n",
       "</div>"
      ],
      "text/plain": [
       "   Year       Date     Time    Round         Stadium         City    HomeTeam  \\\n",
       "0  1930  13-Jul-30   15:00   Group 1         Pocitos  Montevideo       France   \n",
       "1  1930  13-Jul-30   15:00   Group 4  Parque Central  Montevideo          USA   \n",
       "2  1930  14-Jul-30   12:45   Group 2  Parque Central  Montevideo   Yugoslavia   \n",
       "3  1930  14-Jul-30   14:50   Group 3         Pocitos  Montevideo      Romania   \n",
       "4  1930  15-Jul-30   16:00   Group 1  Parque Central  Montevideo    Argentina   \n",
       "\n",
       "   HomeGoals  AwayGoals AwayTeam Observation  \n",
       "0          4          1   Mexico              \n",
       "1          3          0  Belgium              \n",
       "2          2          1   Brazil              \n",
       "3          3          1     Peru              \n",
       "4          1          0   France              "
      ]
     },
     "execution_count": 2,
     "metadata": {},
     "output_type": "execute_result"
    }
   ],
   "source": [
    "wc = pd.read_csv('world_cup_results.csv')\n",
    "wc.head()"
   ]
  },
  {
   "cell_type": "code",
   "execution_count": 3,
   "metadata": {},
   "outputs": [],
   "source": [
    "opened = open('world_cup_results.csv', encoding = 'utf8')\n",
    "read = reader(opened)\n",
    "wc_list = list(read)"
   ]
  },
  {
   "cell_type": "code",
   "execution_count": 4,
   "metadata": {},
   "outputs": [],
   "source": [
    "def explore_data(dataset, start, end, row_column = False):\n",
    "    dataslice = dataset[start:end]\n",
    "    for row in dataslice:\n",
    "        print(row)\n",
    "        print('\\n')\n",
    "    if row_column:\n",
    "        print('Number of rows: ',  len(dataset))\n",
    "        print('Number of columns ',  len(dataset[0]))\n",
    "        print('\\n')"
   ]
  },
  {
   "cell_type": "code",
   "execution_count": 5,
   "metadata": {},
   "outputs": [
    {
     "data": {
      "text/plain": [
       "2014    80\n",
       "2010    64\n",
       "2006    64\n",
       "2002    64\n",
       "1998    64\n",
       "Name: Year, dtype: int64"
      ]
     },
     "execution_count": 5,
     "metadata": {},
     "output_type": "execute_result"
    }
   ],
   "source": [
    "# Question 1 How many matches were played in each world cup year from 1930?\n",
    "wc['Year'].value_counts().head()"
   ]
  },
  {
   "cell_type": "code",
   "execution_count": 6,
   "metadata": {},
   "outputs": [
    {
     "data": {
      "text/plain": [
       "Text(0.5, 1.0, 'Number of Matches Played in Each World Cup Year')"
      ]
     },
     "execution_count": 6,
     "metadata": {},
     "output_type": "execute_result"
    },
    {
     "data": {
      "image/png": "[encoded data removed]",
      "text/plain": [
       "<Figure size 432x288 with 1 Axes>"
      ]
     },
     "metadata": {
      "needs_background": "light"
     },
     "output_type": "display_data"
    }
   ],
   "source": [
    "wc['Year'].value_counts().plot(kind = 'bar', cmap = 'plasma')\n",
    "plt.ylabel('Number of Matches Played')\n",
    "plt.xlabel('World Cup Year')\n",
    "plt.title('Number of Matches Played in Each World Cup Year')"
   ]
  },
  {
   "cell_type": "code",
   "execution_count": 7,
   "metadata": {},
   "outputs": [
    {
     "data": {
      "text/plain": [
       "Year\n",
       "2014    206\n",
       "1998    171\n",
       "2002    161\n",
       "2006    147\n",
       "1982    146\n",
       "Name: total_Goals, dtype: int64"
      ]
     },
     "execution_count": 7,
     "metadata": {},
     "output_type": "execute_result"
    }
   ],
   "source": [
    "# Question 2 Total goals scored for each tournament year\n",
    "wc['total_Goals'] = wc['HomeGoals'] + wc['AwayGoals']\n",
    "wc.head()\n",
    "wc.groupby('Year')['total_Goals'].sum().sort_values(ascending = False).head()\n"
   ]
  },
  {
   "cell_type": "code",
   "execution_count": 8,
   "metadata": {},
   "outputs": [
    {
     "data": {
      "text/plain": [
       "Text(0, 0.5, 'Number of goals scored')"
      ]
     },
     "execution_count": 8,
     "metadata": {},
     "output_type": "execute_result"
    },
    {
     "data": {
      "image/png": "[encoded data removed]",
      "text/plain": [
       "<Figure size 432x288 with 1 Axes>"
      ]
     },
     "metadata": {
      "needs_background": "light"
     },
     "output_type": "display_data"
    }
   ],
   "source": [
    "wc.groupby('Year')['total_Goals'].sum().plot(kind = 'bar', cmap = 'plasma')\n",
    "plt.title('Total Number of goals scored in Each World Cup')\n",
    "plt.xlabel('World Cup Year')\n",
    "plt.ylabel('Number of goals scored')"
   ]
  },
  {
   "cell_type": "code",
   "execution_count": 9,
   "metadata": {},
   "outputs": [],
   "source": [
    "# Question 3 All Teams who have reached finals and how many times?\n",
    "wc_final = wc[wc['Round'] == 'Final']\n",
    "wc_final.head()\n",
    "final_teams = []\n",
    "for teams in wc_final['HomeTeam']:\n",
    "    final_teams.append(teams)\n",
    "for teams in wc_final['AwayTeam']:\n",
    "    final_teams.append(teams)"
   ]
  },
  {
   "cell_type": "code",
   "execution_count": 10,
   "metadata": {},
   "outputs": [],
   "source": [
    "teams_in_final = pd.DataFrame(final_teams)"
   ]
  },
  {
   "cell_type": "code",
   "execution_count": 11,
   "metadata": {},
   "outputs": [
    {
     "data": {
      "text/plain": [
       "Brazil            6\n",
       "Argentina         6\n",
       "Italy             6\n",
       "Germany FR        6\n",
       "Germany           3\n",
       "Netherlands       3\n",
       "France            2\n",
       "Hungary           2\n",
       "Czechoslovakia    2\n",
       "England           1\n",
       "Spain             1\n",
       "Sweden            1\n",
       "Uruguay           1\n",
       "Name: Teams, dtype: int64"
      ]
     },
     "execution_count": 11,
     "metadata": {},
     "output_type": "execute_result"
    }
   ],
   "source": [
    "teams_in_final.head()\n",
    "teams_in_final.columns = ['Teams']\n",
    "teams_in_final.head()\n",
    "teams_in_final['Teams'].value_counts()"
   ]
  },
  {
   "cell_type": "code",
   "execution_count": 12,
   "metadata": {},
   "outputs": [
    {
     "data": {
      "text/plain": [
       "Text(0, 0.5, 'Teams')"
      ]
     },
     "execution_count": 12,
     "metadata": {},
     "output_type": "execute_result"
    },
    {
     "data": {
      "image/png": "[encoded data removed]",
      "text/plain": [
       "<Figure size 432x288 with 1 Axes>"
      ]
     },
     "metadata": {
      "needs_background": "light"
     },
     "output_type": "display_data"
    }
   ],
   "source": [
    "teams_in_final['Teams'].value_counts().head().plot(kind = 'barh', cmap = 'plasma')\n",
    "plt.title('Top 5 teams have featured in the Final')\n",
    "plt.xlabel('Count of feature')\n",
    "plt.ylabel('Teams')"
   ]
  },
  {
   "cell_type": "code",
   "execution_count": 13,
   "metadata": {},
   "outputs": [],
   "source": [
    "# Question 4 All teams that have reached the semi finals and how many times\n",
    "wc_sf = wc[wc['Round'] == 'Semi-finals']"
   ]
  },
  {
   "cell_type": "code",
   "execution_count": 14,
   "metadata": {},
   "outputs": [],
   "source": [
    "teams_in_sf = []\n",
    "for team in wc_sf['HomeTeam']:\n",
    "    teams_in_sf.append(team)\n",
    "for team in wc_sf['AwayTeam']:\n",
    "    teams_in_sf.append(team)"
   ]
  },
  {
   "cell_type": "code",
   "execution_count": 15,
   "metadata": {},
   "outputs": [],
   "source": [
    "teams_in_sf = pd.DataFrame(teams_in_sf)"
   ]
  },
  {
   "cell_type": "code",
   "execution_count": 16,
   "metadata": {},
   "outputs": [
    {
     "data": {
      "text/plain": [
       "Brazil        9\n",
       "Germany FR    7\n",
       "Italy         7\n",
       "Germany       6\n",
       "Argentina     5\n",
       "Name: Teams, dtype: int64"
      ]
     },
     "execution_count": 16,
     "metadata": {},
     "output_type": "execute_result"
    }
   ],
   "source": [
    "teams_in_sf.columns = ['Teams']\n",
    "teams_in_sf['Teams'].value_counts().head()"
   ]
  },
  {
   "cell_type": "code",
   "execution_count": 17,
   "metadata": {},
   "outputs": [
    {
     "data": {
      "text/plain": [
       "Text(0, 0.5, 'Teams')"
      ]
     },
     "execution_count": 17,
     "metadata": {},
     "output_type": "execute_result"
    },
    {
     "data": {
      "image/png": "[encoded data removed]",
      "text/plain": [
       "<Figure size 432x288 with 1 Axes>"
      ]
     },
     "metadata": {
      "needs_background": "light"
     },
     "output_type": "display_data"
    }
   ],
   "source": [
    "teams_in_sf['Teams'].value_counts().head(10).plot(kind = 'barh', cmap = 'plasma')\n",
    "plt.title('Top 10 teams have featured in the Semi-Final')\n",
    "plt.xlabel('Count of feature')\n",
    "plt.ylabel('Teams')"
   ]
  },
  {
   "cell_type": "code",
   "execution_count": 18,
   "metadata": {},
   "outputs": [],
   "source": [
    "# Question 5 How many goals and average goals scored in all semi-finals?"
   ]
  },
  {
   "cell_type": "code",
   "execution_count": 19,
   "metadata": {},
   "outputs": [
    {
     "data": {
      "text/html": [
       "<div>\n",
       "<style scoped>\n",
       "    .dataframe tbody tr th:only-of-type {\n",
       "        vertical-align: middle;\n",
       "    }\n",
       "\n",
       "    .dataframe tbody tr th {\n",
       "        vertical-align: top;\n",
       "    }\n",
       "\n",
       "    .dataframe thead th {\n",
       "        text-align: right;\n",
       "    }\n",
       "</style>\n",
       "<table border=\"1\" class=\"dataframe\">\n",
       "  <thead>\n",
       "    <tr style=\"text-align: right;\">\n",
       "      <th></th>\n",
       "      <th>Year</th>\n",
       "      <th>Date</th>\n",
       "      <th>Time</th>\n",
       "      <th>Round</th>\n",
       "      <th>Stadium</th>\n",
       "      <th>City</th>\n",
       "      <th>HomeTeam</th>\n",
       "      <th>HomeGoals</th>\n",
       "      <th>AwayGoals</th>\n",
       "      <th>AwayTeam</th>\n",
       "      <th>Observation</th>\n",
       "      <th>total_Goals</th>\n",
       "    </tr>\n",
       "  </thead>\n",
       "  <tbody>\n",
       "    <tr>\n",
       "      <th>15</th>\n",
       "      <td>1930</td>\n",
       "      <td>26-Jul-30</td>\n",
       "      <td>14:45</td>\n",
       "      <td>Semi-finals</td>\n",
       "      <td>Estadio Centenario</td>\n",
       "      <td>Montevideo</td>\n",
       "      <td>Argentina</td>\n",
       "      <td>6</td>\n",
       "      <td>1</td>\n",
       "      <td>USA</td>\n",
       "      <td></td>\n",
       "      <td>7</td>\n",
       "    </tr>\n",
       "    <tr>\n",
       "      <th>16</th>\n",
       "      <td>1930</td>\n",
       "      <td>27-Jul-30</td>\n",
       "      <td>14:45</td>\n",
       "      <td>Semi-finals</td>\n",
       "      <td>Estadio Centenario</td>\n",
       "      <td>Montevideo</td>\n",
       "      <td>Uruguay</td>\n",
       "      <td>6</td>\n",
       "      <td>1</td>\n",
       "      <td>Yugoslavia</td>\n",
       "      <td></td>\n",
       "      <td>7</td>\n",
       "    </tr>\n",
       "    <tr>\n",
       "      <th>31</th>\n",
       "      <td>1934</td>\n",
       "      <td>3-Jun-34</td>\n",
       "      <td>16:30</td>\n",
       "      <td>Semi-finals</td>\n",
       "      <td>San Siro</td>\n",
       "      <td>Milan</td>\n",
       "      <td>Italy</td>\n",
       "      <td>1</td>\n",
       "      <td>0</td>\n",
       "      <td>Austria</td>\n",
       "      <td></td>\n",
       "      <td>1</td>\n",
       "    </tr>\n",
       "    <tr>\n",
       "      <th>32</th>\n",
       "      <td>1934</td>\n",
       "      <td>3-Jun-34</td>\n",
       "      <td>16:30</td>\n",
       "      <td>Semi-finals</td>\n",
       "      <td>Nazionale PNF</td>\n",
       "      <td>Rome</td>\n",
       "      <td>Czechoslovakia</td>\n",
       "      <td>3</td>\n",
       "      <td>1</td>\n",
       "      <td>Germany</td>\n",
       "      <td></td>\n",
       "      <td>4</td>\n",
       "    </tr>\n",
       "    <tr>\n",
       "      <th>49</th>\n",
       "      <td>1938</td>\n",
       "      <td>16-Jun-38</td>\n",
       "      <td>18:00</td>\n",
       "      <td>Semi-finals</td>\n",
       "      <td>Parc des Princes</td>\n",
       "      <td>Paris</td>\n",
       "      <td>Hungary</td>\n",
       "      <td>5</td>\n",
       "      <td>1</td>\n",
       "      <td>Sweden</td>\n",
       "      <td></td>\n",
       "      <td>6</td>\n",
       "    </tr>\n",
       "  </tbody>\n",
       "</table>\n",
       "</div>"
      ],
      "text/plain": [
       "    Year       Date     Time        Round             Stadium         City  \\\n",
       "15  1930  26-Jul-30   14:45   Semi-finals  Estadio Centenario  Montevideo    \n",
       "16  1930  27-Jul-30   14:45   Semi-finals  Estadio Centenario  Montevideo    \n",
       "31  1934   3-Jun-34   16:30   Semi-finals            San Siro       Milan    \n",
       "32  1934   3-Jun-34   16:30   Semi-finals       Nazionale PNF        Rome    \n",
       "49  1938  16-Jun-38   18:00   Semi-finals    Parc des Princes       Paris    \n",
       "\n",
       "          HomeTeam  HomeGoals  AwayGoals    AwayTeam Observation  total_Goals  \n",
       "15       Argentina          6          1         USA                        7  \n",
       "16         Uruguay          6          1  Yugoslavia                        7  \n",
       "31           Italy          1          0     Austria                        1  \n",
       "32  Czechoslovakia          3          1     Germany                        4  \n",
       "49         Hungary          5          1      Sweden                        6  "
      ]
     },
     "execution_count": 19,
     "metadata": {},
     "output_type": "execute_result"
    }
   ],
   "source": [
    "wc_sf.head()"
   ]
  },
  {
   "cell_type": "code",
   "execution_count": 20,
   "metadata": {},
   "outputs": [
    {
     "data": {
      "text/plain": [
       "131"
      ]
     },
     "execution_count": 20,
     "metadata": {},
     "output_type": "execute_result"
    }
   ],
   "source": [
    "total_goals_in_sf = wc_sf['total_Goals'].sum()\n",
    "total_goals_in_sf"
   ]
  },
  {
   "cell_type": "code",
   "execution_count": 21,
   "metadata": {},
   "outputs": [
    {
     "data": {
      "text/plain": [
       "3.638888888888889"
      ]
     },
     "execution_count": 21,
     "metadata": {},
     "output_type": "execute_result"
    }
   ],
   "source": [
    "avg_goals_in_sf = wc_sf['total_Goals'].mean()\n",
    "avg_goals_in_sf"
   ]
  },
  {
   "cell_type": "code",
   "execution_count": 22,
   "metadata": {},
   "outputs": [],
   "source": [
    "# Question 6 How many goals and average goals scored in all quarter-finals?"
   ]
  },
  {
   "cell_type": "code",
   "execution_count": 23,
   "metadata": {},
   "outputs": [],
   "source": [
    "wc_qf = wc[wc['Round'] =='Quarter-finals']"
   ]
  },
  {
   "cell_type": "code",
   "execution_count": 24,
   "metadata": {},
   "outputs": [
    {
     "data": {
      "text/plain": [
       "180"
      ]
     },
     "execution_count": 24,
     "metadata": {},
     "output_type": "execute_result"
    }
   ],
   "source": [
    "total_goals_in_qf = wc_qf['total_Goals'].sum()\n",
    "total_goals_in_qf"
   ]
  },
  {
   "cell_type": "code",
   "execution_count": 25,
   "metadata": {},
   "outputs": [
    {
     "data": {
      "text/plain": [
       "2.727272727272727"
      ]
     },
     "execution_count": 25,
     "metadata": {},
     "output_type": "execute_result"
    }
   ],
   "source": [
    "avg_goals_in_qf = wc_qf['total_Goals'].mean()\n",
    "avg_goals_in_qf"
   ]
  },
  {
   "cell_type": "code",
   "execution_count": 26,
   "metadata": {},
   "outputs": [
    {
     "data": {
      "text/plain": [
       "69"
      ]
     },
     "execution_count": 26,
     "metadata": {},
     "output_type": "execute_result"
    }
   ],
   "source": [
    "# Question 7 How many goals and average goals scored in all finals?\n",
    "total_goals_in_finals = wc_final['total_Goals'].sum()\n",
    "total_goals_in_finals"
   ]
  },
  {
   "cell_type": "code",
   "execution_count": 27,
   "metadata": {},
   "outputs": [
    {
     "data": {
      "text/plain": [
       "3.45"
      ]
     },
     "execution_count": 27,
     "metadata": {},
     "output_type": "execute_result"
    }
   ],
   "source": [
    "avg_goals_in_final = wc_final['total_Goals'].mean()\n",
    "avg_goals_in_final"
   ]
  },
  {
   "cell_type": "code",
   "execution_count": 28,
   "metadata": {},
   "outputs": [],
   "source": [
    "# Question 8 How many matches were played outside Quarter-finals and above?"
   ]
  },
  {
   "cell_type": "code",
   "execution_count": 29,
   "metadata": {},
   "outputs": [],
   "source": [
    "wc_games = pd.read_csv('world_cup_results.csv', index_col = 'Round')"
   ]
  },
  {
   "cell_type": "code",
   "execution_count": 30,
   "metadata": {},
   "outputs": [],
   "source": [
    "wc_games.drop(['Quarter-finals', 'Semi-finals', 'Final'], inplace = True)\n",
    "wc_games = wc_games.reset_index()"
   ]
  },
  {
   "cell_type": "code",
   "execution_count": 31,
   "metadata": {},
   "outputs": [
    {
     "data": {
      "text/plain": [
       "array(['Group 1', 'Group 4', 'Group 2', 'Group 3', 'Preliminary round',\n",
       "       'Match for third place', 'First round', 'Group 6', 'Group B',\n",
       "       'Group A', 'Group 5', 'Group C', 'Group D', 'Group F', 'Group E',\n",
       "       'Round of 16', 'Group H', 'Group G', 'Third place',\n",
       "       'Play-off for third place'], dtype=object)"
      ]
     },
     "execution_count": 31,
     "metadata": {},
     "output_type": "execute_result"
    }
   ],
   "source": [
    "wc_games['Round'].unique()"
   ]
  },
  {
   "cell_type": "code",
   "execution_count": 32,
   "metadata": {},
   "outputs": [
    {
     "data": {
      "text/plain": [
       "730"
      ]
     },
     "execution_count": 32,
     "metadata": {},
     "output_type": "execute_result"
    }
   ],
   "source": [
    "total_matches_played_outside_QF_and_above = len(wc_games.index)\n",
    "total_matches_played_outside_QF_and_above"
   ]
  },
  {
   "cell_type": "code",
   "execution_count": 33,
   "metadata": {},
   "outputs": [],
   "source": [
    "# Question 9 Create a new Column for the outcome of every match(outcome = D for Draw, A for Away Team wins,\n",
    "#H for Home Team wins)."
   ]
  },
  {
   "cell_type": "code",
   "execution_count": 34,
   "metadata": {},
   "outputs": [],
   "source": [
    "def outcome(wc):\n",
    "    if (wc['HomeGoals'] > wc['AwayGoals']):\n",
    "        result = 'H'\n",
    "    elif (wc['HomeGoals'] < wc['AwayGoals']):\n",
    "        result = 'A'\n",
    "    else:\n",
    "        result = 'D'\n",
    "    return result"
   ]
  },
  {
   "cell_type": "code",
   "execution_count": 35,
   "metadata": {},
   "outputs": [],
   "source": [
    "wc['Outcome'] = wc.apply(outcome,axis = 1)"
   ]
  },
  {
   "cell_type": "code",
   "execution_count": 36,
   "metadata": {},
   "outputs": [
    {
     "data": {
      "text/plain": [
       "H    488\n",
       "D    190\n",
       "A    174\n",
       "Name: Outcome, dtype: int64"
      ]
     },
     "execution_count": 36,
     "metadata": {},
     "output_type": "execute_result"
    }
   ],
   "source": [
    "wc['Outcome'].value_counts()"
   ]
  },
  {
   "cell_type": "code",
   "execution_count": 37,
   "metadata": {},
   "outputs": [],
   "source": [
    "# Question 10 Create a new Column for the Winner of every match (After 90 minutes)"
   ]
  },
  {
   "cell_type": "code",
   "execution_count": 38,
   "metadata": {},
   "outputs": [],
   "source": [
    "def winner(wc):\n",
    "    if (wc['HomeGoals'] > wc['AwayGoals']):\n",
    "        result = wc['HomeTeam']\n",
    "    if (wc['HomeGoals'] < wc['AwayGoals']):\n",
    "        result = wc['AwayTeam']\n",
    "    if (wc['HomeGoals'] == wc['AwayGoals']):\n",
    "        result = 'Draw'\n",
    "    return result"
   ]
  },
  {
   "cell_type": "code",
   "execution_count": 39,
   "metadata": {},
   "outputs": [],
   "source": [
    "wc['winners'] = wc.apply(winner, axis = 1)"
   ]
  },
  {
   "cell_type": "code",
   "execution_count": 40,
   "metadata": {},
   "outputs": [
    {
     "data": {
      "text/plain": [
       "Draw          190\n",
       "Brazil         71\n",
       "Italy          45\n",
       "Argentina      44\n",
       "Germany FR     36\n",
       "Name: winners, dtype: int64"
      ]
     },
     "execution_count": 40,
     "metadata": {},
     "output_type": "execute_result"
    }
   ],
   "source": [
    "wc['winners'].value_counts().head()"
   ]
  },
  {
   "cell_type": "code",
   "execution_count": 41,
   "metadata": {},
   "outputs": [],
   "source": [
    "# Question 11 Most frequent match time in the world cup history"
   ]
  },
  {
   "cell_type": "code",
   "execution_count": 42,
   "metadata": {},
   "outputs": [
    {
     "data": {
      "text/plain": [
       " 16:00     127\n",
       " 21:00     109\n",
       " 17:00      76\n",
       " 15:00      71\n",
       " 20:30      56\n",
       "Name: Time, dtype: int64"
      ]
     },
     "execution_count": 42,
     "metadata": {},
     "output_type": "execute_result"
    }
   ],
   "source": [
    "wc['Time'].value_counts().head()"
   ]
  },
  {
   "cell_type": "code",
   "execution_count": 43,
   "metadata": {},
   "outputs": [
    {
     "data": {
      "text/plain": [
       "HomeTeam\n",
       "Algeria                   0.833333\n",
       "Angola                    0.000000\n",
       "Argentina                 2.055556\n",
       "Australia                 1.166667\n",
       "Austria                   2.384615\n",
       "Belgium                   1.500000\n",
       "Bolivia                   1.000000\n",
       "Bosnia and Herzegovina    3.000000\n",
       "Brazil                    2.195122\n",
       "Bulgaria                  1.571429\n",
       "Cameroon                  1.000000\n",
       "Canada                    0.000000\n",
       "Chile                     1.785714\n",
       "China PR                  0.000000\n",
       "Colombia                  1.571429\n",
       "Costa Rica                1.000000\n",
       "Croatia                   1.000000\n",
       "Cuba                      2.500000\n",
       "Czech Republic            0.000000\n",
       "Czechoslovakia            2.700000\n",
       "C�te d'Ivoire             1.666667\n",
       "Denmark                   1.857143\n",
       "Ecuador                   1.000000\n",
       "England                   1.542857\n",
       "France                    2.193548\n",
       "German DR                 1.000000\n",
       "Germany                   2.029412\n",
       "Germany FR                2.302326\n",
       "Ghana                     1.000000\n",
       "Greece                    1.000000\n",
       "                            ...   \n",
       "Paraguay                  1.272727\n",
       "Peru                      2.600000\n",
       "Poland                    1.687500\n",
       "Portugal                  2.250000\n",
       "Republic of Ireland       0.400000\n",
       "Romania                   1.666667\n",
       "Russia                    3.000000\n",
       "Saudi Arabia              0.500000\n",
       "Scotland                  1.222222\n",
       "Senegal                   1.500000\n",
       "Serbia                    0.000000\n",
       "Serbia and Montenegro     0.000000\n",
       "Slovakia                  1.500000\n",
       "Slovenia                  1.000000\n",
       "South Africa              1.166667\n",
       "Soviet Union              2.388889\n",
       "Spain                     1.666667\n",
       "Sweden                    1.962963\n",
       "Switzerland               1.833333\n",
       "Togo                      0.000000\n",
       "Trinidad and Tobago       0.000000\n",
       "Tunisia                   1.500000\n",
       "Turkey                    5.000000\n",
       "USA                       1.266667\n",
       "Ukraine                   1.000000\n",
       "United Arab Emirates      0.000000\n",
       "Uruguay                   2.214286\n",
       "Wales                     2.000000\n",
       "Yugoslavia                2.470588\n",
       "Zaire                     0.000000\n",
       "Name: HomeGoals, Length: 78, dtype: float64"
      ]
     },
     "execution_count": 43,
     "metadata": {},
     "output_type": "execute_result"
    }
   ],
   "source": [
    "wc['HomeGoals'].groupby(wc['HomeTeam']).mean()"
   ]
  },
  {
   "cell_type": "code",
   "execution_count": null,
   "metadata": {},
   "outputs": [],
   "source": []
  }
 ],
 "metadata": {
  "kernelspec": {
   "display_name": "Python 3",
   "language": "python",
   "name": "python3"
  },
  "language_info": {
   "codemirror_mode": {
    "name": "ipython",
    "version": 3
   },
   "file_extension": ".py",
   "mimetype": "text/x-python",
   "name": "python",
   "nbconvert_exporter": "python",
   "pygments_lexer": "ipython3",
   "version": "3.7.3"
  }
 },
 "nbformat": 4,
 "nbformat_minor": 2
}
