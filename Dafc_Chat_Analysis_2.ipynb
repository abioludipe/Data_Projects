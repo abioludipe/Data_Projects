{
 "cells": [
  {
   "cell_type": "markdown",
   "metadata": {},
   "source": [
    "# Dafc Chat Analysis"
   ]
  },
  {
   "cell_type": "markdown",
   "metadata": {},
   "source": [
    "### The objective is to find out the most active members of the group page and as well identify the inactive members and be able to reach out to them"
   ]
  },
  {
   "cell_type": "code",
   "execution_count": 1,
   "metadata": {},
   "outputs": [],
   "source": [
    "#importing libraties\n",
    "\n",
    "import pandas as pd\n",
    "import numpy as np\n",
    "import re\n",
    "from csv import reader"
   ]
  },
  {
   "cell_type": "code",
   "execution_count": 2,
   "metadata": {},
   "outputs": [],
   "source": [
    "dafc_2 = pd.read_csv('Dafc_2.csv')"
   ]
  },
  {
   "cell_type": "code",
   "execution_count": 3,
   "metadata": {},
   "outputs": [
    {
     "data": {
      "text/html": [
       "<div>\n",
       "<style scoped>\n",
       "    .dataframe tbody tr th:only-of-type {\n",
       "        vertical-align: middle;\n",
       "    }\n",
       "\n",
       "    .dataframe tbody tr th {\n",
       "        vertical-align: top;\n",
       "    }\n",
       "\n",
       "    .dataframe thead th {\n",
       "        text-align: right;\n",
       "    }\n",
       "</style>\n",
       "<table border=\"1\" class=\"dataframe\">\n",
       "  <thead>\n",
       "    <tr style=\"text-align: right;\">\n",
       "      <th></th>\n",
       "      <th>Date</th>\n",
       "      <th>Time</th>\n",
       "      <th>Member</th>\n",
       "      <th>Message</th>\n",
       "    </tr>\n",
       "  </thead>\n",
       "  <tbody>\n",
       "    <tr>\n",
       "      <th>0</th>\n",
       "      <td>01/08/2018</td>\n",
       "      <td>21:31</td>\n",
       "      <td>+234 806 798 2958</td>\n",
       "      <td>The question is which big club will buy him?</td>\n",
       "    </tr>\n",
       "    <tr>\n",
       "      <th>1</th>\n",
       "      <td>01/08/2018</td>\n",
       "      <td>21:31</td>\n",
       "      <td>+234 806 798 2958</td>\n",
       "      <td>He is not a goal poacher nah</td>\n",
       "    </tr>\n",
       "    <tr>\n",
       "      <th>2</th>\n",
       "      <td>01/08/2018</td>\n",
       "      <td>21:32</td>\n",
       "      <td>+234 810 212 5164</td>\n",
       "      <td>And the answer z none.. What v been trying to...</td>\n",
       "    </tr>\n",
       "    <tr>\n",
       "      <th>3</th>\n",
       "      <td>01/08/2018</td>\n",
       "      <td>21:34</td>\n",
       "      <td>+234 806 798 2958</td>\n",
       "      <td>Pls pay enemy price since your friendly price...</td>\n",
       "    </tr>\n",
       "    <tr>\n",
       "      <th>4</th>\n",
       "      <td>01/08/2018</td>\n",
       "      <td>21:47</td>\n",
       "      <td>+234 809 787 1354</td>\n",
       "      <td>Hazard fits into Madrid style of football...</td>\n",
       "    </tr>\n",
       "  </tbody>\n",
       "</table>\n",
       "</div>"
      ],
      "text/plain": [
       "         Date    Time              Member  \\\n",
       "0  01/08/2018   21:31   +234 806 798 2958   \n",
       "1  01/08/2018   21:31   +234 806 798 2958   \n",
       "2  01/08/2018   21:32   +234 810 212 5164   \n",
       "3  01/08/2018   21:34   +234 806 798 2958   \n",
       "4  01/08/2018   21:47   +234 809 787 1354   \n",
       "\n",
       "                                             Message  \n",
       "0       The question is which big club will buy him?  \n",
       "1                       He is not a goal poacher nah  \n",
       "2   And the answer z none.. What v been trying to...  \n",
       "3   Pls pay enemy price since your friendly price...  \n",
       "4       Hazard fits into Madrid style of football...  "
      ]
     },
     "execution_count": 3,
     "metadata": {},
     "output_type": "execute_result"
    }
   ],
   "source": [
    "#peeping into the df\n",
    "\n",
    "dafc_2.head()"
   ]
  },
  {
   "cell_type": "code",
   "execution_count": 4,
   "metadata": {},
   "outputs": [
    {
     "data": {
      "text/plain": [
       "(38901, 4)"
      ]
     },
     "execution_count": 4,
     "metadata": {},
     "output_type": "execute_result"
    }
   ],
   "source": [
    "dafc_2.shape"
   ]
  },
  {
   "cell_type": "code",
   "execution_count": 5,
   "metadata": {},
   "outputs": [
    {
     "data": {
      "text/plain": [
       "Date       0\n",
       "Time       0\n",
       "Member     0\n",
       "Message    2\n",
       "dtype: int64"
      ]
     },
     "execution_count": 5,
     "metadata": {},
     "output_type": "execute_result"
    }
   ],
   "source": [
    "dafc_2.isnull().sum()"
   ]
  },
  {
   "cell_type": "code",
   "execution_count": 6,
   "metadata": {},
   "outputs": [],
   "source": [
    "dafc_2 = dafc_2.dropna(axis = 0)"
   ]
  },
  {
   "cell_type": "code",
   "execution_count": 7,
   "metadata": {},
   "outputs": [
    {
     "data": {
      "text/html": [
       "<div>\n",
       "<style scoped>\n",
       "    .dataframe tbody tr th:only-of-type {\n",
       "        vertical-align: middle;\n",
       "    }\n",
       "\n",
       "    .dataframe tbody tr th {\n",
       "        vertical-align: top;\n",
       "    }\n",
       "\n",
       "    .dataframe thead th {\n",
       "        text-align: right;\n",
       "    }\n",
       "</style>\n",
       "<table border=\"1\" class=\"dataframe\">\n",
       "  <thead>\n",
       "    <tr style=\"text-align: right;\">\n",
       "      <th></th>\n",
       "      <th>Date</th>\n",
       "      <th>Time</th>\n",
       "      <th>Member</th>\n",
       "      <th>Message</th>\n",
       "    </tr>\n",
       "  </thead>\n",
       "  <tbody>\n",
       "    <tr>\n",
       "      <th>count</th>\n",
       "      <td>38899</td>\n",
       "      <td>38899</td>\n",
       "      <td>38899</td>\n",
       "      <td>38899</td>\n",
       "    </tr>\n",
       "    <tr>\n",
       "      <th>unique</th>\n",
       "      <td>561</td>\n",
       "      <td>1297</td>\n",
       "      <td>47</td>\n",
       "      <td>30036</td>\n",
       "    </tr>\n",
       "    <tr>\n",
       "      <th>top</th>\n",
       "      <td>11/01/2020</td>\n",
       "      <td>22:32</td>\n",
       "      <td>Dada Kayode</td>\n",
       "      <td>&lt;Media omitted&gt;</td>\n",
       "    </tr>\n",
       "    <tr>\n",
       "      <th>freq</th>\n",
       "      <td>645</td>\n",
       "      <td>131</td>\n",
       "      <td>5799</td>\n",
       "      <td>2407</td>\n",
       "    </tr>\n",
       "  </tbody>\n",
       "</table>\n",
       "</div>"
      ],
      "text/plain": [
       "              Date    Time        Member           Message\n",
       "count        38899   38899         38899             38899\n",
       "unique         561    1297            47             30036\n",
       "top     11/01/2020   22:32   Dada Kayode   <Media omitted>\n",
       "freq           645     131          5799              2407"
      ]
     },
     "execution_count": 7,
     "metadata": {},
     "output_type": "execute_result"
    }
   ],
   "source": [
    "dafc_2.describe()"
   ]
  },
  {
   "cell_type": "code",
   "execution_count": 8,
   "metadata": {},
   "outputs": [
    {
     "data": {
      "text/html": [
       "<div>\n",
       "<style scoped>\n",
       "    .dataframe tbody tr th:only-of-type {\n",
       "        vertical-align: middle;\n",
       "    }\n",
       "\n",
       "    .dataframe tbody tr th {\n",
       "        vertical-align: top;\n",
       "    }\n",
       "\n",
       "    .dataframe thead th {\n",
       "        text-align: right;\n",
       "    }\n",
       "</style>\n",
       "<table border=\"1\" class=\"dataframe\">\n",
       "  <thead>\n",
       "    <tr style=\"text-align: right;\">\n",
       "      <th></th>\n",
       "      <th>Date</th>\n",
       "      <th>Time</th>\n",
       "      <th>Member</th>\n",
       "      <th>Message</th>\n",
       "    </tr>\n",
       "  </thead>\n",
       "  <tbody>\n",
       "    <tr>\n",
       "      <th>0</th>\n",
       "      <td>01/08/2018</td>\n",
       "      <td>21:31</td>\n",
       "      <td>+234 806 798 2958</td>\n",
       "      <td>The question is which big club will buy him?</td>\n",
       "    </tr>\n",
       "    <tr>\n",
       "      <th>1</th>\n",
       "      <td>01/08/2018</td>\n",
       "      <td>21:31</td>\n",
       "      <td>+234 806 798 2958</td>\n",
       "      <td>He is not a goal poacher nah</td>\n",
       "    </tr>\n",
       "    <tr>\n",
       "      <th>2</th>\n",
       "      <td>01/08/2018</td>\n",
       "      <td>21:32</td>\n",
       "      <td>+234 810 212 5164</td>\n",
       "      <td>And the answer z none.. What v been trying to...</td>\n",
       "    </tr>\n",
       "    <tr>\n",
       "      <th>3</th>\n",
       "      <td>01/08/2018</td>\n",
       "      <td>21:34</td>\n",
       "      <td>+234 806 798 2958</td>\n",
       "      <td>Pls pay enemy price since your friendly price...</td>\n",
       "    </tr>\n",
       "    <tr>\n",
       "      <th>4</th>\n",
       "      <td>01/08/2018</td>\n",
       "      <td>21:47</td>\n",
       "      <td>+234 809 787 1354</td>\n",
       "      <td>Hazard fits into Madrid style of football...</td>\n",
       "    </tr>\n",
       "  </tbody>\n",
       "</table>\n",
       "</div>"
      ],
      "text/plain": [
       "         Date    Time             Member  \\\n",
       "0  01/08/2018   21:31  +234 806 798 2958   \n",
       "1  01/08/2018   21:31  +234 806 798 2958   \n",
       "2  01/08/2018   21:32  +234 810 212 5164   \n",
       "3  01/08/2018   21:34  +234 806 798 2958   \n",
       "4  01/08/2018   21:47  +234 809 787 1354   \n",
       "\n",
       "                                             Message  \n",
       "0       The question is which big club will buy him?  \n",
       "1                       He is not a goal poacher nah  \n",
       "2   And the answer z none.. What v been trying to...  \n",
       "3   Pls pay enemy price since your friendly price...  \n",
       "4       Hazard fits into Madrid style of football...  "
      ]
     },
     "execution_count": 8,
     "metadata": {},
     "output_type": "execute_result"
    }
   ],
   "source": [
    "#removing whitespaces\n",
    "\n",
    "dafc_2['Member'] = dafc_2['Member'].str.strip()\n",
    "dafc_2.head()"
   ]
  },
  {
   "cell_type": "code",
   "execution_count": 9,
   "metadata": {},
   "outputs": [],
   "source": [
    "dafc_2.loc[dafc_2['Member'] == '+234 802 522 5222', 'Member'] = 'Sparklez'\n",
    "dafc_2.loc[dafc_2['Member'] == '+234 813 944 3676', 'Member'] = 'Qs Adedipe'\n",
    "dafc_2.loc[dafc_2['Member'] == '+234 813 745 6983', 'Member'] = 'Biodun'\n",
    "dafc_2.loc[dafc_2['Member'] == '+234 810 212 5164', 'Member'] = 'I_am_Nadal'\n",
    "dafc_2.loc[dafc_2['Member'] == '+234 809 787 1354', 'Member'] = 'PM'\n",
    "dafc_2.loc[dafc_2['Member'] == '+234 806 937 6956', 'Member'] = 'Holuwaxheun'\n",
    "dafc_2.loc[dafc_2['Member'] == '+234 803 403 8563', 'Member'] = 'Sam Enny'\n",
    "dafc_2.loc[dafc_2['Member'] == '+234 703 020 3568', 'Member'] = 'Oluwaseyeariwodola'\n",
    "dafc_2.loc[dafc_2['Member'] == '+234 813 813 7761', 'Member'] = 'King_Sceptre'\n",
    "dafc_2.loc[dafc_2['Member'] == '+234 816 093 2566', 'Member'] = 'Tomide'\n",
    "dafc_2.loc[dafc_2['Member'] == '+234 816 086 2352', 'Member'] = 'Ololade Sowumi'\n",
    "dafc_2.loc[dafc_2['Member'] == '+234 806 798 2958', 'Member'] = 'Bro Joseph'\n",
    "dafc_2.loc[dafc_2['Member'] == '+234 806 041 0116', 'Member'] = 'Lawal Tosin'"
   ]
  },
  {
   "cell_type": "code",
   "execution_count": 10,
   "metadata": {},
   "outputs": [],
   "source": [
    "Members = {'+234 806 640 7043':'Ojo Blessing',\n",
    "           '+234 703 787 3587':'Tolulope Adebara',\n",
    "           '+234 816 263 1662': '948 Multimedia',\n",
    "           '+234 810 940 9119':'Engr Solution',\n",
    "           '+234 706 299 8645':'Oluwasegun',\n",
    "           '+234 818 935 7541': 'Till I apprehend',\n",
    "           '+234 806 414 0541': 'Sir Uchecharles',\n",
    "           '+234 903 915 6163': 'Emma-Christ',\n",
    "           '+234 809 793 3416':'Sir Bolu',\n",
    "           '+234 810 122 1039':'Usifo@JTC',\n",
    "           '+234 701 645 0230':'PhilipoMaxx',\n",
    "           '+234 703 330 0224':'Lagbenro',\n",
    "           '+234 813 300 0655':'Vitalink',\n",
    "           '+234 803 574 1792':'Omotola',\n",
    "           '+234 809 941 7589':'Shiffoe',\n",
    "           '+234 706 281 9737':'Justman',\n",
    "           '+234 802 801 2423': 'Ibitoye Daniel',\n",
    "           '+234 703 012 8961':'Ghandi',\n",
    "           '+234 814 995 1279':'Ab.black',\n",
    "           '+234 701 231 4574':'Jaiye',\n",
    "           '+234 813 503 3129':'Olutayo',\n",
    "           '+234 816 099 8009': np.nan,\n",
    "           '+234 805 605 8447': np.nan,\n",
    "           '+234 803 861 8197': np.nan,\n",
    "           '+234 705 750 4047': np.nan,\n",
    "           '+234 817 930 2952': np.nan\n",
    "          }"
   ]
  },
  {
   "cell_type": "code",
   "execution_count": 11,
   "metadata": {},
   "outputs": [],
   "source": [
    "def member_names(key):\n",
    "    if key in Members:\n",
    "        key = Members[key]\n",
    "    return key"
   ]
  },
  {
   "cell_type": "code",
   "execution_count": 12,
   "metadata": {},
   "outputs": [],
   "source": [
    "dafc_2['Member'] = dafc_2['Member'].apply(member_names)"
   ]
  },
  {
   "cell_type": "code",
   "execution_count": 13,
   "metadata": {},
   "outputs": [],
   "source": [
    "id = {\n",
    "'948 Multimedia':17,\n",
    "'Ab.black':1,\n",
    "'Biodun':2,\n",
    "'Bro Joseph':3,\n",
    "'Dada Kayode':4,\n",
    "'Demola Bld':5,\n",
    "'Dre Hassan':6,\n",
    "'Emma-Christ':7,\n",
    "'Engr Solution':8,\n",
    "'Ghandi':9,\n",
    "'Holuwaxheun':10, \n",
    "'I_am_Nadal':11, \n",
    "'Ibitoye Daniel':12,\n",
    "'Jaiye':13,\n",
    "'Justman':14, \n",
    "'King_Sceptre':15, \n",
    "'Koch Chris':16,\n",
    "'Koch Tunde':18,\n",
    "'Lagbenro':19,\n",
    "'Lawal Tosin':20,\n",
    "'Maazi':21, \n",
    "'Ojo Blessing':22,\n",
    "'Ololade Sowumi':23,\n",
    "'Olutayo':24,\n",
    "'Oluwasegun':25, \n",
    "'Oluwaseyeariwodola':26, \n",
    "'Omotola':27, \n",
    "'PhilipoMaxx':28, \n",
    "'PM':29,\n",
    "'Qs Adedipe':30,\n",
    "'Sam Dafc':31,\n",
    "'Sam Enny':32,\n",
    "'Shiffoe':33,\n",
    "'Sir Bolu':34,\n",
    "'Sir Uchecharles':35,\n",
    "'Sparklez':36, \n",
    "'Till I apprehend':37,\n",
    "'Tolulope Adebara':38,\n",
    "'Tomide':39,\n",
    "'Usifo@JTC':40,\n",
    "'Vitalink':41\n",
    "}"
   ]
  },
  {
   "cell_type": "code",
   "execution_count": 14,
   "metadata": {},
   "outputs": [],
   "source": [
    "def give_id(key):\n",
    "    if key in id:\n",
    "        key = id[key]\n",
    "    return key"
   ]
  },
  {
   "cell_type": "code",
   "execution_count": 15,
   "metadata": {},
   "outputs": [],
   "source": [
    "dafc_2['id'] = dafc_2['Member']"
   ]
  },
  {
   "cell_type": "code",
   "execution_count": 16,
   "metadata": {},
   "outputs": [
    {
     "data": {
      "text/html": [
       "<div>\n",
       "<style scoped>\n",
       "    .dataframe tbody tr th:only-of-type {\n",
       "        vertical-align: middle;\n",
       "    }\n",
       "\n",
       "    .dataframe tbody tr th {\n",
       "        vertical-align: top;\n",
       "    }\n",
       "\n",
       "    .dataframe thead th {\n",
       "        text-align: right;\n",
       "    }\n",
       "</style>\n",
       "<table border=\"1\" class=\"dataframe\">\n",
       "  <thead>\n",
       "    <tr style=\"text-align: right;\">\n",
       "      <th></th>\n",
       "      <th>Date</th>\n",
       "      <th>Time</th>\n",
       "      <th>Member</th>\n",
       "      <th>Message</th>\n",
       "      <th>id</th>\n",
       "    </tr>\n",
       "  </thead>\n",
       "  <tbody>\n",
       "    <tr>\n",
       "      <th>0</th>\n",
       "      <td>01/08/2018</td>\n",
       "      <td>21:31</td>\n",
       "      <td>Bro Joseph</td>\n",
       "      <td>The question is which big club will buy him?</td>\n",
       "      <td>Bro Joseph</td>\n",
       "    </tr>\n",
       "    <tr>\n",
       "      <th>1</th>\n",
       "      <td>01/08/2018</td>\n",
       "      <td>21:31</td>\n",
       "      <td>Bro Joseph</td>\n",
       "      <td>He is not a goal poacher nah</td>\n",
       "      <td>Bro Joseph</td>\n",
       "    </tr>\n",
       "    <tr>\n",
       "      <th>2</th>\n",
       "      <td>01/08/2018</td>\n",
       "      <td>21:32</td>\n",
       "      <td>I_am_Nadal</td>\n",
       "      <td>And the answer z none.. What v been trying to...</td>\n",
       "      <td>I_am_Nadal</td>\n",
       "    </tr>\n",
       "    <tr>\n",
       "      <th>3</th>\n",
       "      <td>01/08/2018</td>\n",
       "      <td>21:34</td>\n",
       "      <td>Bro Joseph</td>\n",
       "      <td>Pls pay enemy price since your friendly price...</td>\n",
       "      <td>Bro Joseph</td>\n",
       "    </tr>\n",
       "    <tr>\n",
       "      <th>4</th>\n",
       "      <td>01/08/2018</td>\n",
       "      <td>21:47</td>\n",
       "      <td>PM</td>\n",
       "      <td>Hazard fits into Madrid style of football...</td>\n",
       "      <td>PM</td>\n",
       "    </tr>\n",
       "  </tbody>\n",
       "</table>\n",
       "</div>"
      ],
      "text/plain": [
       "         Date    Time      Member  \\\n",
       "0  01/08/2018   21:31  Bro Joseph   \n",
       "1  01/08/2018   21:31  Bro Joseph   \n",
       "2  01/08/2018   21:32  I_am_Nadal   \n",
       "3  01/08/2018   21:34  Bro Joseph   \n",
       "4  01/08/2018   21:47          PM   \n",
       "\n",
       "                                             Message          id  \n",
       "0       The question is which big club will buy him?  Bro Joseph  \n",
       "1                       He is not a goal poacher nah  Bro Joseph  \n",
       "2   And the answer z none.. What v been trying to...  I_am_Nadal  \n",
       "3   Pls pay enemy price since your friendly price...  Bro Joseph  \n",
       "4       Hazard fits into Madrid style of football...          PM  "
      ]
     },
     "execution_count": 16,
     "metadata": {},
     "output_type": "execute_result"
    }
   ],
   "source": [
    "dafc_2.head()"
   ]
  },
  {
   "cell_type": "code",
   "execution_count": 17,
   "metadata": {},
   "outputs": [],
   "source": [
    "dafc_2['id'] = dafc_2['id'].apply(give_id)"
   ]
  },
  {
   "cell_type": "code",
   "execution_count": 18,
   "metadata": {},
   "outputs": [
    {
     "data": {
      "text/html": [
       "<div>\n",
       "<style scoped>\n",
       "    .dataframe tbody tr th:only-of-type {\n",
       "        vertical-align: middle;\n",
       "    }\n",
       "\n",
       "    .dataframe tbody tr th {\n",
       "        vertical-align: top;\n",
       "    }\n",
       "\n",
       "    .dataframe thead th {\n",
       "        text-align: right;\n",
       "    }\n",
       "</style>\n",
       "<table border=\"1\" class=\"dataframe\">\n",
       "  <thead>\n",
       "    <tr style=\"text-align: right;\">\n",
       "      <th></th>\n",
       "      <th>Date</th>\n",
       "      <th>Time</th>\n",
       "      <th>Member</th>\n",
       "      <th>Message</th>\n",
       "      <th>id</th>\n",
       "    </tr>\n",
       "  </thead>\n",
       "  <tbody>\n",
       "    <tr>\n",
       "      <th>0</th>\n",
       "      <td>01/08/2018</td>\n",
       "      <td>21:31</td>\n",
       "      <td>Bro Joseph</td>\n",
       "      <td>The question is which big club will buy him?</td>\n",
       "      <td>3.0</td>\n",
       "    </tr>\n",
       "    <tr>\n",
       "      <th>1</th>\n",
       "      <td>01/08/2018</td>\n",
       "      <td>21:31</td>\n",
       "      <td>Bro Joseph</td>\n",
       "      <td>He is not a goal poacher nah</td>\n",
       "      <td>3.0</td>\n",
       "    </tr>\n",
       "    <tr>\n",
       "      <th>2</th>\n",
       "      <td>01/08/2018</td>\n",
       "      <td>21:32</td>\n",
       "      <td>I_am_Nadal</td>\n",
       "      <td>And the answer z none.. What v been trying to...</td>\n",
       "      <td>11.0</td>\n",
       "    </tr>\n",
       "    <tr>\n",
       "      <th>3</th>\n",
       "      <td>01/08/2018</td>\n",
       "      <td>21:34</td>\n",
       "      <td>Bro Joseph</td>\n",
       "      <td>Pls pay enemy price since your friendly price...</td>\n",
       "      <td>3.0</td>\n",
       "    </tr>\n",
       "    <tr>\n",
       "      <th>4</th>\n",
       "      <td>01/08/2018</td>\n",
       "      <td>21:47</td>\n",
       "      <td>PM</td>\n",
       "      <td>Hazard fits into Madrid style of football...</td>\n",
       "      <td>29.0</td>\n",
       "    </tr>\n",
       "  </tbody>\n",
       "</table>\n",
       "</div>"
      ],
      "text/plain": [
       "         Date    Time      Member  \\\n",
       "0  01/08/2018   21:31  Bro Joseph   \n",
       "1  01/08/2018   21:31  Bro Joseph   \n",
       "2  01/08/2018   21:32  I_am_Nadal   \n",
       "3  01/08/2018   21:34  Bro Joseph   \n",
       "4  01/08/2018   21:47          PM   \n",
       "\n",
       "                                             Message    id  \n",
       "0       The question is which big club will buy him?   3.0  \n",
       "1                       He is not a goal poacher nah   3.0  \n",
       "2   And the answer z none.. What v been trying to...  11.0  \n",
       "3   Pls pay enemy price since your friendly price...   3.0  \n",
       "4       Hazard fits into Madrid style of football...  29.0  "
      ]
     },
     "execution_count": 18,
     "metadata": {},
     "output_type": "execute_result"
    }
   ],
   "source": [
    "dafc_2.head()"
   ]
  },
  {
   "cell_type": "code",
   "execution_count": 19,
   "metadata": {},
   "outputs": [],
   "source": [
    "def get_hour(element):\n",
    "    result = element[0:3]\n",
    "    return int(result)"
   ]
  },
  {
   "cell_type": "code",
   "execution_count": 20,
   "metadata": {},
   "outputs": [],
   "source": [
    "dafc_2['Hour'] = dafc_2['Time'].apply(get_hour)"
   ]
  },
  {
   "cell_type": "code",
   "execution_count": 21,
   "metadata": {},
   "outputs": [
    {
     "data": {
      "text/html": [
       "<div>\n",
       "<style scoped>\n",
       "    .dataframe tbody tr th:only-of-type {\n",
       "        vertical-align: middle;\n",
       "    }\n",
       "\n",
       "    .dataframe tbody tr th {\n",
       "        vertical-align: top;\n",
       "    }\n",
       "\n",
       "    .dataframe thead th {\n",
       "        text-align: right;\n",
       "    }\n",
       "</style>\n",
       "<table border=\"1\" class=\"dataframe\">\n",
       "  <thead>\n",
       "    <tr style=\"text-align: right;\">\n",
       "      <th></th>\n",
       "      <th>Date</th>\n",
       "      <th>Time</th>\n",
       "      <th>Member</th>\n",
       "      <th>Message</th>\n",
       "      <th>id</th>\n",
       "      <th>Hour</th>\n",
       "    </tr>\n",
       "  </thead>\n",
       "  <tbody>\n",
       "    <tr>\n",
       "      <th>0</th>\n",
       "      <td>01/08/2018</td>\n",
       "      <td>21:31</td>\n",
       "      <td>Bro Joseph</td>\n",
       "      <td>The question is which big club will buy him?</td>\n",
       "      <td>3.0</td>\n",
       "      <td>21</td>\n",
       "    </tr>\n",
       "    <tr>\n",
       "      <th>1</th>\n",
       "      <td>01/08/2018</td>\n",
       "      <td>21:31</td>\n",
       "      <td>Bro Joseph</td>\n",
       "      <td>He is not a goal poacher nah</td>\n",
       "      <td>3.0</td>\n",
       "      <td>21</td>\n",
       "    </tr>\n",
       "    <tr>\n",
       "      <th>2</th>\n",
       "      <td>01/08/2018</td>\n",
       "      <td>21:32</td>\n",
       "      <td>I_am_Nadal</td>\n",
       "      <td>And the answer z none.. What v been trying to...</td>\n",
       "      <td>11.0</td>\n",
       "      <td>21</td>\n",
       "    </tr>\n",
       "    <tr>\n",
       "      <th>3</th>\n",
       "      <td>01/08/2018</td>\n",
       "      <td>21:34</td>\n",
       "      <td>Bro Joseph</td>\n",
       "      <td>Pls pay enemy price since your friendly price...</td>\n",
       "      <td>3.0</td>\n",
       "      <td>21</td>\n",
       "    </tr>\n",
       "    <tr>\n",
       "      <th>4</th>\n",
       "      <td>01/08/2018</td>\n",
       "      <td>21:47</td>\n",
       "      <td>PM</td>\n",
       "      <td>Hazard fits into Madrid style of football...</td>\n",
       "      <td>29.0</td>\n",
       "      <td>21</td>\n",
       "    </tr>\n",
       "  </tbody>\n",
       "</table>\n",
       "</div>"
      ],
      "text/plain": [
       "         Date    Time      Member  \\\n",
       "0  01/08/2018   21:31  Bro Joseph   \n",
       "1  01/08/2018   21:31  Bro Joseph   \n",
       "2  01/08/2018   21:32  I_am_Nadal   \n",
       "3  01/08/2018   21:34  Bro Joseph   \n",
       "4  01/08/2018   21:47          PM   \n",
       "\n",
       "                                             Message    id  Hour  \n",
       "0       The question is which big club will buy him?   3.0    21  \n",
       "1                       He is not a goal poacher nah   3.0    21  \n",
       "2   And the answer z none.. What v been trying to...  11.0    21  \n",
       "3   Pls pay enemy price since your friendly price...   3.0    21  \n",
       "4       Hazard fits into Madrid style of football...  29.0    21  "
      ]
     },
     "execution_count": 21,
     "metadata": {},
     "output_type": "execute_result"
    }
   ],
   "source": [
    "dafc_2.head()"
   ]
  },
  {
   "cell_type": "code",
   "execution_count": 22,
   "metadata": {},
   "outputs": [],
   "source": [
    "dafc_2 = dafc_2.dropna(axis = 0, how = 'any')"
   ]
  },
  {
   "cell_type": "code",
   "execution_count": 23,
   "metadata": {},
   "outputs": [
    {
     "data": {
      "text/plain": [
       "Date       0\n",
       "Time       0\n",
       "Member     0\n",
       "Message    0\n",
       "id         0\n",
       "Hour       0\n",
       "dtype: int64"
      ]
     },
     "execution_count": 23,
     "metadata": {},
     "output_type": "execute_result"
    }
   ],
   "source": [
    "dafc_2.isnull().sum()"
   ]
  },
  {
   "cell_type": "code",
   "execution_count": 24,
   "metadata": {},
   "outputs": [
    {
     "data": {
      "text/html": [
       "<div>\n",
       "<style scoped>\n",
       "    .dataframe tbody tr th:only-of-type {\n",
       "        vertical-align: middle;\n",
       "    }\n",
       "\n",
       "    .dataframe tbody tr th {\n",
       "        vertical-align: top;\n",
       "    }\n",
       "\n",
       "    .dataframe thead th {\n",
       "        text-align: right;\n",
       "    }\n",
       "</style>\n",
       "<table border=\"1\" class=\"dataframe\">\n",
       "  <thead>\n",
       "    <tr style=\"text-align: right;\">\n",
       "      <th></th>\n",
       "      <th>id</th>\n",
       "      <th>Hour</th>\n",
       "    </tr>\n",
       "  </thead>\n",
       "  <tbody>\n",
       "    <tr>\n",
       "      <th>count</th>\n",
       "      <td>38772.000000</td>\n",
       "      <td>38772.000000</td>\n",
       "    </tr>\n",
       "    <tr>\n",
       "      <th>mean</th>\n",
       "      <td>19.028680</td>\n",
       "      <td>16.781621</td>\n",
       "    </tr>\n",
       "    <tr>\n",
       "      <th>std</th>\n",
       "      <td>12.575174</td>\n",
       "      <td>5.134813</td>\n",
       "    </tr>\n",
       "    <tr>\n",
       "      <th>min</th>\n",
       "      <td>1.000000</td>\n",
       "      <td>0.000000</td>\n",
       "    </tr>\n",
       "    <tr>\n",
       "      <th>25%</th>\n",
       "      <td>6.000000</td>\n",
       "      <td>12.000000</td>\n",
       "    </tr>\n",
       "    <tr>\n",
       "      <th>50%</th>\n",
       "      <td>20.000000</td>\n",
       "      <td>18.000000</td>\n",
       "    </tr>\n",
       "    <tr>\n",
       "      <th>75%</th>\n",
       "      <td>30.000000</td>\n",
       "      <td>21.000000</td>\n",
       "    </tr>\n",
       "    <tr>\n",
       "      <th>max</th>\n",
       "      <td>41.000000</td>\n",
       "      <td>23.000000</td>\n",
       "    </tr>\n",
       "  </tbody>\n",
       "</table>\n",
       "</div>"
      ],
      "text/plain": [
       "                 id          Hour\n",
       "count  38772.000000  38772.000000\n",
       "mean      19.028680     16.781621\n",
       "std       12.575174      5.134813\n",
       "min        1.000000      0.000000\n",
       "25%        6.000000     12.000000\n",
       "50%       20.000000     18.000000\n",
       "75%       30.000000     21.000000\n",
       "max       41.000000     23.000000"
      ]
     },
     "execution_count": 24,
     "metadata": {},
     "output_type": "execute_result"
    }
   ],
   "source": [
    "dafc_2.describe()"
   ]
  },
  {
   "cell_type": "code",
   "execution_count": 25,
   "metadata": {},
   "outputs": [
    {
     "data": {
      "text/plain": [
       "(38772, 6)"
      ]
     },
     "execution_count": 25,
     "metadata": {},
     "output_type": "execute_result"
    }
   ],
   "source": [
    "dafc_2.shape"
   ]
  },
  {
   "cell_type": "code",
   "execution_count": null,
   "metadata": {},
   "outputs": [],
   "source": []
  },
  {
   "cell_type": "code",
   "execution_count": 26,
   "metadata": {},
   "outputs": [
    {
     "name": "stdout",
     "output_type": "stream",
     "text": [
      "<class 'pandas.core.frame.DataFrame'>\n",
      "Int64Index: 38772 entries, 0 to 38900\n",
      "Data columns (total 6 columns):\n",
      "Date       38772 non-null object\n",
      "Time       38772 non-null object\n",
      "Member     38772 non-null object\n",
      "Message    38772 non-null object\n",
      "id         38772 non-null float64\n",
      "Hour       38772 non-null int64\n",
      "dtypes: float64(1), int64(1), object(4)\n",
      "memory usage: 2.1+ MB\n"
     ]
    }
   ],
   "source": [
    "dafc_2.info()"
   ]
  },
  {
   "cell_type": "code",
   "execution_count": 27,
   "metadata": {},
   "outputs": [],
   "source": [
    "#saving to csv\n",
    "\n",
    "dafc_2.to_csv('dafc_Cleaned.csv', index = False, header = True)"
   ]
  },
  {
   "cell_type": "code",
   "execution_count": null,
   "metadata": {},
   "outputs": [],
   "source": []
  },
  {
   "cell_type": "code",
   "execution_count": null,
   "metadata": {},
   "outputs": [],
   "source": []
  }
 ],
 "metadata": {
  "kernelspec": {
   "display_name": "Python 3",
   "language": "python",
   "name": "python3"
  },
  "language_info": {
   "codemirror_mode": {
    "name": "ipython",
    "version": 3
   },
   "file_extension": ".py",
   "mimetype": "text/x-python",
   "name": "python",
   "nbconvert_exporter": "python",
   "pygments_lexer": "ipython3",
   "version": "3.7.3"
  }
 },
 "nbformat": 4,
 "nbformat_minor": 2
}
