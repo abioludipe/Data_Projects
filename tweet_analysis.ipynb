{
 "cells": [
  {
   "cell_type": "markdown",
   "metadata": {},
   "source": [
    "# Exercise"
   ]
  },
  {
   "cell_type": "code",
   "execution_count": 1,
   "metadata": {},
   "outputs": [],
   "source": [
    "import numpy as np\n",
    "import pandas as pd\n",
    "from csv import reader"
   ]
  },
  {
   "cell_type": "code",
   "execution_count": 2,
   "metadata": {},
   "outputs": [
    {
     "data": {
      "text/html": [
       "<div>\n",
       "<style scoped>\n",
       "    .dataframe tbody tr th:only-of-type {\n",
       "        vertical-align: middle;\n",
       "    }\n",
       "\n",
       "    .dataframe tbody tr th {\n",
       "        vertical-align: top;\n",
       "    }\n",
       "\n",
       "    .dataframe thead th {\n",
       "        text-align: right;\n",
       "    }\n",
       "</style>\n",
       "<table border=\"1\" class=\"dataframe\">\n",
       "  <thead>\n",
       "    <tr style=\"text-align: right;\">\n",
       "      <th></th>\n",
       "      <th>created_at</th>\n",
       "      <th>text</th>\n",
       "      <th>in_reply_to_status_id_str</th>\n",
       "      <th>source</th>\n",
       "      <th>in_reply_to_screen_name</th>\n",
       "      <th>contributors</th>\n",
       "      <th>quoted_status_id</th>\n",
       "      <th>quote_count</th>\n",
       "      <th>reply_count</th>\n",
       "      <th>retweet_count</th>\n",
       "      <th>favorite_count</th>\n",
       "      <th>retweeted</th>\n",
       "      <th>followers_count</th>\n",
       "    </tr>\n",
       "  </thead>\n",
       "  <tbody>\n",
       "    <tr>\n",
       "      <th>0</th>\n",
       "      <td>2019-12-19 08:20:07</td>\n",
       "      <td>On behalf of my family, I wish @bukolasaraki a...</td>\n",
       "      <td>NaN</td>\n",
       "      <td>Twitter for iPhone</td>\n",
       "      <td>NaN</td>\n",
       "      <td>NaN</td>\n",
       "      <td>Not Availabe</td>\n",
       "      <td>Not Availabe</td>\n",
       "      <td>Not Availabe</td>\n",
       "      <td>1227</td>\n",
       "      <td>10787</td>\n",
       "      <td>NaN</td>\n",
       "      <td>NaN</td>\n",
       "    </tr>\n",
       "    <tr>\n",
       "      <th>1</th>\n",
       "      <td>2019-12-15 16:08:46</td>\n",
       "      <td>How sweet of my grandchildren to bring me a be...</td>\n",
       "      <td>NaN</td>\n",
       "      <td>Twitter for iPhone</td>\n",
       "      <td>NaN</td>\n",
       "      <td>NaN</td>\n",
       "      <td>Not Availabe</td>\n",
       "      <td>Not Availabe</td>\n",
       "      <td>Not Availabe</td>\n",
       "      <td>943</td>\n",
       "      <td>11928</td>\n",
       "      <td>NaN</td>\n",
       "      <td>NaN</td>\n",
       "    </tr>\n",
       "    <tr>\n",
       "      <th>2</th>\n",
       "      <td>2019-12-15 07:53:46</td>\n",
       "      <td>On behalf of my family, I thank those present ...</td>\n",
       "      <td>NaN</td>\n",
       "      <td>Twitter for iPhone</td>\n",
       "      <td>NaN</td>\n",
       "      <td>NaN</td>\n",
       "      <td>Not Availabe</td>\n",
       "      <td>Not Availabe</td>\n",
       "      <td>Not Availabe</td>\n",
       "      <td>714</td>\n",
       "      <td>6539</td>\n",
       "      <td>NaN</td>\n",
       "      <td>NaN</td>\n",
       "    </tr>\n",
       "    <tr>\n",
       "      <th>3</th>\n",
       "      <td>2019-12-13 15:51:58</td>\n",
       "      <td>I congratulate @BorisJohnson on his reelection...</td>\n",
       "      <td>NaN</td>\n",
       "      <td>Twitter for iPhone</td>\n",
       "      <td>NaN</td>\n",
       "      <td>NaN</td>\n",
       "      <td>Not Availabe</td>\n",
       "      <td>Not Availabe</td>\n",
       "      <td>Not Availabe</td>\n",
       "      <td>639</td>\n",
       "      <td>5373</td>\n",
       "      <td>NaN</td>\n",
       "      <td>NaN</td>\n",
       "    </tr>\n",
       "    <tr>\n",
       "      <th>4</th>\n",
       "      <td>2019-12-10 09:44:44</td>\n",
       "      <td>#HumanRightsDay means that the global human co...</td>\n",
       "      <td>NaN</td>\n",
       "      <td>Twitter for iPhone</td>\n",
       "      <td>NaN</td>\n",
       "      <td>NaN</td>\n",
       "      <td>Not Availabe</td>\n",
       "      <td>Not Availabe</td>\n",
       "      <td>Not Availabe</td>\n",
       "      <td>822</td>\n",
       "      <td>3380</td>\n",
       "      <td>NaN</td>\n",
       "      <td>NaN</td>\n",
       "    </tr>\n",
       "  </tbody>\n",
       "</table>\n",
       "</div>"
      ],
      "text/plain": [
       "            created_at                                               text  \\\n",
       "0  2019-12-19 08:20:07  On behalf of my family, I wish @bukolasaraki a...   \n",
       "1  2019-12-15 16:08:46  How sweet of my grandchildren to bring me a be...   \n",
       "2  2019-12-15 07:53:46  On behalf of my family, I thank those present ...   \n",
       "3  2019-12-13 15:51:58  I congratulate @BorisJohnson on his reelection...   \n",
       "4  2019-12-10 09:44:44  #HumanRightsDay means that the global human co...   \n",
       "\n",
       "   in_reply_to_status_id_str              source in_reply_to_screen_name  \\\n",
       "0                        NaN  Twitter for iPhone                     NaN   \n",
       "1                        NaN  Twitter for iPhone                     NaN   \n",
       "2                        NaN  Twitter for iPhone                     NaN   \n",
       "3                        NaN  Twitter for iPhone                     NaN   \n",
       "4                        NaN  Twitter for iPhone                     NaN   \n",
       "\n",
       "   contributors quoted_status_id   quote_count   reply_count  retweet_count  \\\n",
       "0           NaN     Not Availabe  Not Availabe  Not Availabe           1227   \n",
       "1           NaN     Not Availabe  Not Availabe  Not Availabe            943   \n",
       "2           NaN     Not Availabe  Not Availabe  Not Availabe            714   \n",
       "3           NaN     Not Availabe  Not Availabe  Not Availabe            639   \n",
       "4           NaN     Not Availabe  Not Availabe  Not Availabe            822   \n",
       "\n",
       "   favorite_count  retweeted  followers_count  \n",
       "0           10787        NaN              NaN  \n",
       "1           11928        NaN              NaN  \n",
       "2            6539        NaN              NaN  \n",
       "3            5373        NaN              NaN  \n",
       "4            3380        NaN              NaN  "
      ]
     },
     "execution_count": 2,
     "metadata": {},
     "output_type": "execute_result"
    }
   ],
   "source": [
    "df = pd.read_csv('Exercise.csv')\n",
    "df.head()"
   ]
  },
  {
   "cell_type": "code",
   "execution_count": null,
   "metadata": {},
   "outputs": [],
   "source": []
  },
  {
   "cell_type": "code",
   "execution_count": 3,
   "metadata": {},
   "outputs": [
    {
     "data": {
      "text/plain": [
       "count    0.0\n",
       "mean     NaN\n",
       "std      NaN\n",
       "min      NaN\n",
       "25%      NaN\n",
       "50%      NaN\n",
       "75%      NaN\n",
       "max      NaN\n",
       "Name: contributors, dtype: float64"
      ]
     },
     "execution_count": 3,
     "metadata": {},
     "output_type": "execute_result"
    }
   ],
   "source": [
    "df['contributors'].describe()"
   ]
  },
  {
   "cell_type": "code",
   "execution_count": 4,
   "metadata": {},
   "outputs": [],
   "source": [
    "open_tweet = open('Exercise.csv',encoding = 'utf8')\n",
    "read_tweet = reader(open_tweet)\n",
    "tweet_data = list(read_tweet)\n",
    "\n",
    "def explore_data(dataset, start, end, row_column = False):\n",
    "    dataslice = dataset[start:end]\n",
    "    for row in dataslice:\n",
    "        print(row)\n",
    "        print('\\n')\n",
    "    if row_column:\n",
    "        print('Number of rows: ',  len(dataset))\n",
    "        print('Number of columns ',  len(dataset[0]))\n",
    "        print('\\n')"
   ]
  },
  {
   "cell_type": "code",
   "execution_count": 5,
   "metadata": {},
   "outputs": [
    {
     "name": "stdout",
     "output_type": "stream",
     "text": [
      "['created_at', 'text', 'in_reply_to_status_id_str', 'source', 'in_reply_to_screen_name', 'contributors', 'quoted_status_id', 'quote_count', 'reply_count', 'retweet_count', 'favorite_count', 'retweeted', 'followers_count']\n",
      "\n",
      "\n",
      "['2019-12-19 08:20:07', 'On behalf of my family, I wish @bukolasaraki a very happy birthday. May Allah grant you many more years in good health and continued service to Nigeria. -AA https://t.co/YYHcR3AaSX', '', 'Twitter for iPhone', '', '', 'Not Availabe', 'Not Availabe', 'Not Availabe', '1227', '10787', '', '']\n",
      "\n",
      "\n",
      "['2019-12-15 16:08:46', 'How sweet of my grandchildren to bring me a belated birthday cake. #smiles https://t.co/gjak4bGmdt', '', 'Twitter for iPhone', '', '', 'Not Availabe', 'Not Availabe', 'Not Availabe', '943', '11928', '', '']\n",
      "\n",
      "\n",
      "['2019-12-15 07:53:46', 'On behalf of my family, I thank those present and also well-wishers for their prayers at the Wedding Fatiha of my dear son, @HHMustaphaAA and his wife, Afrah El-Nafaty. May Allah bless you all for making it a truly special day for me and my family. -AA https://t.co/a6xniZXW1l', '', 'Twitter for iPhone', '', '', 'Not Availabe', 'Not Availabe', 'Not Availabe', '714', '6539', '', '']\n",
      "\n",
      "\n",
      "['2019-12-13 15:51:58', 'I congratulate @BorisJohnson on his reelection as Prime Minister of the United Kingdom. -AA', '', 'Twitter for iPhone', '', '', 'Not Availabe', 'Not Availabe', 'Not Availabe', '639', '5373', '', '']\n",
      "\n",
      "\n",
      "Number of rows:  3230\n",
      "Number of columns  13\n",
      "\n",
      "\n"
     ]
    }
   ],
   "source": [
    "explore_data(tweet_data, 0, 5,True)"
   ]
  },
  {
   "cell_type": "code",
   "execution_count": 6,
   "metadata": {},
   "outputs": [
    {
     "data": {
      "text/plain": [
       "created_at                      0\n",
       "text                            0\n",
       "in_reply_to_status_id_str    2206\n",
       "source                          0\n",
       "in_reply_to_screen_name      2206\n",
       "contributors                 3229\n",
       "quoted_status_id                0\n",
       "quote_count                     0\n",
       "reply_count                     0\n",
       "retweet_count                   0\n",
       "favorite_count                  0\n",
       "retweeted                    3229\n",
       "followers_count              3229\n",
       "dtype: int64"
      ]
     },
     "execution_count": 6,
     "metadata": {},
     "output_type": "execute_result"
    }
   ],
   "source": [
    "df.isnull().sum()"
   ]
  },
  {
   "cell_type": "code",
   "execution_count": 7,
   "metadata": {},
   "outputs": [
    {
     "data": {
      "text/plain": [
       "created_at        0\n",
       "text              0\n",
       "source            0\n",
       "retweet_count     0\n",
       "favorite_count    0\n",
       "dtype: int64"
      ]
     },
     "execution_count": 7,
     "metadata": {},
     "output_type": "execute_result"
    }
   ],
   "source": [
    "df = df.drop(['contributors', 'retweeted', 'followers_count', 'in_reply_to_status_id_str', 'in_reply_to_screen_name', 'quote_count', 'reply_count', 'quoted_status_id'], axis = 1)\n",
    "df.isnull().sum()"
   ]
  },
  {
   "cell_type": "code",
   "execution_count": 8,
   "metadata": {},
   "outputs": [
    {
     "data": {
      "text/html": [
       "<div>\n",
       "<style scoped>\n",
       "    .dataframe tbody tr th:only-of-type {\n",
       "        vertical-align: middle;\n",
       "    }\n",
       "\n",
       "    .dataframe tbody tr th {\n",
       "        vertical-align: top;\n",
       "    }\n",
       "\n",
       "    .dataframe thead th {\n",
       "        text-align: right;\n",
       "    }\n",
       "</style>\n",
       "<table border=\"1\" class=\"dataframe\">\n",
       "  <thead>\n",
       "    <tr style=\"text-align: right;\">\n",
       "      <th></th>\n",
       "      <th>created_at</th>\n",
       "      <th>text</th>\n",
       "      <th>source</th>\n",
       "      <th>retweet_count</th>\n",
       "      <th>favorite_count</th>\n",
       "    </tr>\n",
       "  </thead>\n",
       "  <tbody>\n",
       "    <tr>\n",
       "      <th>0</th>\n",
       "      <td>2019-12-19 08:20:07</td>\n",
       "      <td>On behalf of my family, I wish @bukolasaraki a...</td>\n",
       "      <td>Twitter for iPhone</td>\n",
       "      <td>1227</td>\n",
       "      <td>10787</td>\n",
       "    </tr>\n",
       "    <tr>\n",
       "      <th>1</th>\n",
       "      <td>2019-12-15 16:08:46</td>\n",
       "      <td>How sweet of my grandchildren to bring me a be...</td>\n",
       "      <td>Twitter for iPhone</td>\n",
       "      <td>943</td>\n",
       "      <td>11928</td>\n",
       "    </tr>\n",
       "    <tr>\n",
       "      <th>2</th>\n",
       "      <td>2019-12-15 07:53:46</td>\n",
       "      <td>On behalf of my family, I thank those present ...</td>\n",
       "      <td>Twitter for iPhone</td>\n",
       "      <td>714</td>\n",
       "      <td>6539</td>\n",
       "    </tr>\n",
       "    <tr>\n",
       "      <th>3</th>\n",
       "      <td>2019-12-13 15:51:58</td>\n",
       "      <td>I congratulate @BorisJohnson on his reelection...</td>\n",
       "      <td>Twitter for iPhone</td>\n",
       "      <td>639</td>\n",
       "      <td>5373</td>\n",
       "    </tr>\n",
       "    <tr>\n",
       "      <th>4</th>\n",
       "      <td>2019-12-10 09:44:44</td>\n",
       "      <td>#HumanRightsDay means that the global human co...</td>\n",
       "      <td>Twitter for iPhone</td>\n",
       "      <td>822</td>\n",
       "      <td>3380</td>\n",
       "    </tr>\n",
       "  </tbody>\n",
       "</table>\n",
       "</div>"
      ],
      "text/plain": [
       "            created_at                                               text  \\\n",
       "0  2019-12-19 08:20:07  On behalf of my family, I wish @bukolasaraki a...   \n",
       "1  2019-12-15 16:08:46  How sweet of my grandchildren to bring me a be...   \n",
       "2  2019-12-15 07:53:46  On behalf of my family, I thank those present ...   \n",
       "3  2019-12-13 15:51:58  I congratulate @BorisJohnson on his reelection...   \n",
       "4  2019-12-10 09:44:44  #HumanRightsDay means that the global human co...   \n",
       "\n",
       "               source  retweet_count  favorite_count  \n",
       "0  Twitter for iPhone           1227           10787  \n",
       "1  Twitter for iPhone            943           11928  \n",
       "2  Twitter for iPhone            714            6539  \n",
       "3  Twitter for iPhone            639            5373  \n",
       "4  Twitter for iPhone            822            3380  "
      ]
     },
     "execution_count": 8,
     "metadata": {},
     "output_type": "execute_result"
    }
   ],
   "source": [
    "df.head()"
   ]
  },
  {
   "cell_type": "code",
   "execution_count": 9,
   "metadata": {},
   "outputs": [
    {
     "name": "stdout",
     "output_type": "stream",
     "text": [
      "<class 'pandas.core.frame.DataFrame'>\n",
      "RangeIndex: 3229 entries, 0 to 3228\n",
      "Data columns (total 5 columns):\n",
      "created_at        3229 non-null object\n",
      "text              3229 non-null object\n",
      "source            3229 non-null object\n",
      "retweet_count     3229 non-null int64\n",
      "favorite_count    3229 non-null int64\n",
      "dtypes: int64(2), object(3)\n",
      "memory usage: 126.2+ KB\n"
     ]
    }
   ],
   "source": [
    "df.info()"
   ]
  },
  {
   "cell_type": "code",
   "execution_count": 10,
   "metadata": {},
   "outputs": [
    {
     "data": {
      "text/plain": [
       "Twitter for iPhone      3097\n",
       "Twitter Web App           62\n",
       "Twitter Web Client        61\n",
       "Medium                     4\n",
       "Periscope                  3\n",
       "Facebook                   1\n",
       "Twitter Media Studio       1\n",
       "Name: source, dtype: int64"
      ]
     },
     "execution_count": 10,
     "metadata": {},
     "output_type": "execute_result"
    }
   ],
   "source": [
    "df['source'].value_counts()"
   ]
  },
  {
   "cell_type": "code",
   "execution_count": 11,
   "metadata": {},
   "outputs": [],
   "source": [
    "def get_time(element):\n",
    "    return element[12:20]\n",
    "\n",
    "def get_date(element):\n",
    "    return element[0:11]"
   ]
  },
  {
   "cell_type": "code",
   "execution_count": 12,
   "metadata": {},
   "outputs": [
    {
     "data": {
      "text/html": [
       "<div>\n",
       "<style scoped>\n",
       "    .dataframe tbody tr th:only-of-type {\n",
       "        vertical-align: middle;\n",
       "    }\n",
       "\n",
       "    .dataframe tbody tr th {\n",
       "        vertical-align: top;\n",
       "    }\n",
       "\n",
       "    .dataframe thead th {\n",
       "        text-align: right;\n",
       "    }\n",
       "</style>\n",
       "<table border=\"1\" class=\"dataframe\">\n",
       "  <thead>\n",
       "    <tr style=\"text-align: right;\">\n",
       "      <th></th>\n",
       "      <th>text</th>\n",
       "      <th>source</th>\n",
       "      <th>retweet_count</th>\n",
       "      <th>favorite_count</th>\n",
       "      <th>time_created</th>\n",
       "      <th>date_created</th>\n",
       "    </tr>\n",
       "  </thead>\n",
       "  <tbody>\n",
       "    <tr>\n",
       "      <th>0</th>\n",
       "      <td>On behalf of my family, I wish @bukolasaraki a...</td>\n",
       "      <td>Twitter for iPhone</td>\n",
       "      <td>1227</td>\n",
       "      <td>10787</td>\n",
       "      <td>8:20:07</td>\n",
       "      <td>2019-12-19</td>\n",
       "    </tr>\n",
       "    <tr>\n",
       "      <th>1</th>\n",
       "      <td>How sweet of my grandchildren to bring me a be...</td>\n",
       "      <td>Twitter for iPhone</td>\n",
       "      <td>943</td>\n",
       "      <td>11928</td>\n",
       "      <td>6:08:46</td>\n",
       "      <td>2019-12-15</td>\n",
       "    </tr>\n",
       "    <tr>\n",
       "      <th>2</th>\n",
       "      <td>On behalf of my family, I thank those present ...</td>\n",
       "      <td>Twitter for iPhone</td>\n",
       "      <td>714</td>\n",
       "      <td>6539</td>\n",
       "      <td>7:53:46</td>\n",
       "      <td>2019-12-15</td>\n",
       "    </tr>\n",
       "    <tr>\n",
       "      <th>3</th>\n",
       "      <td>I congratulate @BorisJohnson on his reelection...</td>\n",
       "      <td>Twitter for iPhone</td>\n",
       "      <td>639</td>\n",
       "      <td>5373</td>\n",
       "      <td>5:51:58</td>\n",
       "      <td>2019-12-13</td>\n",
       "    </tr>\n",
       "    <tr>\n",
       "      <th>4</th>\n",
       "      <td>#HumanRightsDay means that the global human co...</td>\n",
       "      <td>Twitter for iPhone</td>\n",
       "      <td>822</td>\n",
       "      <td>3380</td>\n",
       "      <td>9:44:44</td>\n",
       "      <td>2019-12-10</td>\n",
       "    </tr>\n",
       "  </tbody>\n",
       "</table>\n",
       "</div>"
      ],
      "text/plain": [
       "                                                text              source  \\\n",
       "0  On behalf of my family, I wish @bukolasaraki a...  Twitter for iPhone   \n",
       "1  How sweet of my grandchildren to bring me a be...  Twitter for iPhone   \n",
       "2  On behalf of my family, I thank those present ...  Twitter for iPhone   \n",
       "3  I congratulate @BorisJohnson on his reelection...  Twitter for iPhone   \n",
       "4  #HumanRightsDay means that the global human co...  Twitter for iPhone   \n",
       "\n",
       "   retweet_count  favorite_count time_created date_created  \n",
       "0           1227           10787      8:20:07  2019-12-19   \n",
       "1            943           11928      6:08:46  2019-12-15   \n",
       "2            714            6539      7:53:46  2019-12-15   \n",
       "3            639            5373      5:51:58  2019-12-13   \n",
       "4            822            3380      9:44:44  2019-12-10   "
      ]
     },
     "execution_count": 12,
     "metadata": {},
     "output_type": "execute_result"
    }
   ],
   "source": [
    "df['time_created'] = df['created_at'].apply(get_time)\n",
    "df['date_created'] = df['created_at'].apply(get_date)\n",
    "df = df.drop(['created_at'], axis = 1)\n",
    "df.head()"
   ]
  },
  {
   "cell_type": "code",
   "execution_count": 13,
   "metadata": {},
   "outputs": [],
   "source": [
    "def get_hour(element):\n",
    "    result = element[0:1]\n",
    "    return result"
   ]
  },
  {
   "cell_type": "code",
   "execution_count": 14,
   "metadata": {},
   "outputs": [
    {
     "data": {
      "text/html": [
       "<div>\n",
       "<style scoped>\n",
       "    .dataframe tbody tr th:only-of-type {\n",
       "        vertical-align: middle;\n",
       "    }\n",
       "\n",
       "    .dataframe tbody tr th {\n",
       "        vertical-align: top;\n",
       "    }\n",
       "\n",
       "    .dataframe thead th {\n",
       "        text-align: right;\n",
       "    }\n",
       "</style>\n",
       "<table border=\"1\" class=\"dataframe\">\n",
       "  <thead>\n",
       "    <tr style=\"text-align: right;\">\n",
       "      <th></th>\n",
       "      <th>text</th>\n",
       "      <th>source</th>\n",
       "      <th>retweet_count</th>\n",
       "      <th>favorite_count</th>\n",
       "      <th>time_created</th>\n",
       "      <th>date_created</th>\n",
       "      <th>hour</th>\n",
       "    </tr>\n",
       "  </thead>\n",
       "  <tbody>\n",
       "    <tr>\n",
       "      <th>0</th>\n",
       "      <td>On behalf of my family, I wish @bukolasaraki a...</td>\n",
       "      <td>Twitter for iPhone</td>\n",
       "      <td>1227</td>\n",
       "      <td>10787</td>\n",
       "      <td>8:20:07</td>\n",
       "      <td>2019-12-19</td>\n",
       "      <td>8</td>\n",
       "    </tr>\n",
       "    <tr>\n",
       "      <th>1</th>\n",
       "      <td>How sweet of my grandchildren to bring me a be...</td>\n",
       "      <td>Twitter for iPhone</td>\n",
       "      <td>943</td>\n",
       "      <td>11928</td>\n",
       "      <td>6:08:46</td>\n",
       "      <td>2019-12-15</td>\n",
       "      <td>6</td>\n",
       "    </tr>\n",
       "    <tr>\n",
       "      <th>2</th>\n",
       "      <td>On behalf of my family, I thank those present ...</td>\n",
       "      <td>Twitter for iPhone</td>\n",
       "      <td>714</td>\n",
       "      <td>6539</td>\n",
       "      <td>7:53:46</td>\n",
       "      <td>2019-12-15</td>\n",
       "      <td>7</td>\n",
       "    </tr>\n",
       "    <tr>\n",
       "      <th>3</th>\n",
       "      <td>I congratulate @BorisJohnson on his reelection...</td>\n",
       "      <td>Twitter for iPhone</td>\n",
       "      <td>639</td>\n",
       "      <td>5373</td>\n",
       "      <td>5:51:58</td>\n",
       "      <td>2019-12-13</td>\n",
       "      <td>5</td>\n",
       "    </tr>\n",
       "    <tr>\n",
       "      <th>4</th>\n",
       "      <td>#HumanRightsDay means that the global human co...</td>\n",
       "      <td>Twitter for iPhone</td>\n",
       "      <td>822</td>\n",
       "      <td>3380</td>\n",
       "      <td>9:44:44</td>\n",
       "      <td>2019-12-10</td>\n",
       "      <td>9</td>\n",
       "    </tr>\n",
       "  </tbody>\n",
       "</table>\n",
       "</div>"
      ],
      "text/plain": [
       "                                                text              source  \\\n",
       "0  On behalf of my family, I wish @bukolasaraki a...  Twitter for iPhone   \n",
       "1  How sweet of my grandchildren to bring me a be...  Twitter for iPhone   \n",
       "2  On behalf of my family, I thank those present ...  Twitter for iPhone   \n",
       "3  I congratulate @BorisJohnson on his reelection...  Twitter for iPhone   \n",
       "4  #HumanRightsDay means that the global human co...  Twitter for iPhone   \n",
       "\n",
       "   retweet_count  favorite_count time_created date_created hour  \n",
       "0           1227           10787      8:20:07  2019-12-19     8  \n",
       "1            943           11928      6:08:46  2019-12-15     6  \n",
       "2            714            6539      7:53:46  2019-12-15     7  \n",
       "3            639            5373      5:51:58  2019-12-13     5  \n",
       "4            822            3380      9:44:44  2019-12-10     9  "
      ]
     },
     "execution_count": 14,
     "metadata": {},
     "output_type": "execute_result"
    }
   ],
   "source": [
    "df['hour'] = df['time_created'].apply(get_hour)\n",
    "df.head()"
   ]
  },
  {
   "cell_type": "code",
   "execution_count": 15,
   "metadata": {},
   "outputs": [
    {
     "data": {
      "text/plain": [
       "7    487\n",
       "8    463\n",
       "9    462\n",
       "0    321\n",
       "1    311\n",
       "6    304\n",
       "2    237\n",
       "5    228\n",
       "3    223\n",
       "4    193\n",
       "Name: hour, dtype: int64"
      ]
     },
     "execution_count": 15,
     "metadata": {},
     "output_type": "execute_result"
    }
   ],
   "source": [
    "df['hour'].value_counts()"
   ]
  },
  {
   "cell_type": "code",
   "execution_count": 16,
   "metadata": {},
   "outputs": [],
   "source": [
    "#saving to csv\n",
    "\n",
    "df.to_csv('tweet_analysis.csv', index = False, header = True)"
   ]
  },
  {
   "cell_type": "code",
   "execution_count": null,
   "metadata": {},
   "outputs": [],
   "source": []
  }
 ],
 "metadata": {
  "kernelspec": {
   "display_name": "Python 3",
   "language": "python",
   "name": "python3"
  },
  "language_info": {
   "codemirror_mode": {
    "name": "ipython",
    "version": 3
   },
   "file_extension": ".py",
   "mimetype": "text/x-python",
   "name": "python",
   "nbconvert_exporter": "python",
   "pygments_lexer": "ipython3",
   "version": "3.7.3"
  }
 },
 "nbformat": 4,
 "nbformat_minor": 2
}
